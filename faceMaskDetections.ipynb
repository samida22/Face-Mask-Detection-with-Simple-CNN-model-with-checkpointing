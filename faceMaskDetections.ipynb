{
 "cells": [
  {
   "cell_type": "code",
   "execution_count": 54,
   "id": "b8f3f483",
   "metadata": {},
   "outputs": [],
   "source": [
    "#The datasets\n",
    "            #The dataset consisted of 1376 images, 690 face images with masks and 686 without masks. The original dataset is prepared by Prajna Bhandary and available at Github"
   ]
  },
  {
   "cell_type": "code",
   "execution_count": 55,
   "id": "88247d9f",
   "metadata": {},
   "outputs": [
    {
     "name": "stdout",
     "output_type": "stream",
     "text": [
      "Collecting matplotlib\n",
      "  Downloading matplotlib-3.4.2-cp37-cp37m-manylinux1_x86_64.whl (10.3 MB)\n",
      "\u001b[K     |████████████████████████████████| 10.3 MB 1.1 MB/s eta 0:00:01\n",
      "\u001b[?25hRequirement already satisfied: pyparsing>=2.2.1 in /home/kawaii/anaconda3/envs/ftensor/lib/python3.7/site-packages (from matplotlib) (2.4.7)\n",
      "Requirement already satisfied: python-dateutil>=2.7 in /home/kawaii/anaconda3/envs/ftensor/lib/python3.7/site-packages (from matplotlib) (2.8.1)\n",
      "Collecting pillow>=6.2.0\n",
      "  Downloading Pillow-8.2.0-cp37-cp37m-manylinux1_x86_64.whl (3.0 MB)\n",
      "\u001b[K     |████████████████████████████████| 3.0 MB 1.2 MB/s eta 0:00:01\n",
      "\u001b[?25hRequirement already satisfied: numpy>=1.16 in /home/kawaii/anaconda3/envs/ftensor/lib/python3.7/site-packages (from matplotlib) (1.19.5)\n",
      "Collecting kiwisolver>=1.0.1\n",
      "  Downloading kiwisolver-1.3.1-cp37-cp37m-manylinux1_x86_64.whl (1.1 MB)\n",
      "\u001b[K     |████████████████████████████████| 1.1 MB 1.4 MB/s eta 0:00:01\n",
      "\u001b[?25hCollecting cycler>=0.10\n",
      "  Using cached cycler-0.10.0-py2.py3-none-any.whl (6.5 kB)\n",
      "Requirement already satisfied: six in /home/kawaii/anaconda3/envs/ftensor/lib/python3.7/site-packages (from cycler>=0.10->matplotlib) (1.15.0)\n",
      "Installing collected packages: pillow, kiwisolver, cycler, matplotlib\n",
      "Successfully installed cycler-0.10.0 kiwisolver-1.3.1 matplotlib-3.4.2 pillow-8.2.0\n"
     ]
    }
   ],
   "source": [
    "!pip install matplotlib"
   ]
  },
  {
   "cell_type": "code",
   "execution_count": 56,
   "id": "27d905fb",
   "metadata": {},
   "outputs": [],
   "source": [
    "#necessary packages\n",
    "import cv2, os\n",
    "\n",
    "from keras.models import Model\n",
    "import tensorflow as tf\n",
    "from keras.applications.vgg16 import VGG16\n",
    "from keras.applications.vgg16 import preprocess_input\n",
    "from keras.preprocessing import image\n",
    "from keras.preprocessing.image import ImageDataGenerator\n",
    "from keras.models import Sequential\n",
    "import numpy as np\n",
    "from glob import glob\n",
    "import matplotlib.pyplot as plt\n",
    "from tensorflow.keras.models import Sequential\n",
    "from tensorflow.keras.layers import Activation, Dense, Flatten, BatchNormalization, Conv2D, MaxPool2D\n",
    "from tensorflow.keras.optimizers import Adam\n",
    "from tensorflow.keras.metrics import categorical_crossentropy"
   ]
  },
  {
   "cell_type": "code",
   "execution_count": 10,
   "id": "4b377aad",
   "metadata": {},
   "outputs": [],
   "source": [
    "#data preprocessing\n",
    "\n",
    "\n",
    "\n",
    "data_path = \"data\"\n",
    "\n",
    "\n",
    "\n"
   ]
  },
  {
   "cell_type": "code",
   "execution_count": 11,
   "id": "d188a786",
   "metadata": {},
   "outputs": [
    {
     "data": {
      "text/plain": [
       "'data'"
      ]
     },
     "execution_count": 11,
     "metadata": {},
     "output_type": "execute_result"
    }
   ],
   "source": [
    "data_path"
   ]
  },
  {
   "cell_type": "code",
   "execution_count": 16,
   "id": "9f52df82",
   "metadata": {},
   "outputs": [
    {
     "name": "stdout",
     "output_type": "stream",
     "text": [
      "{'without_mask': 0, 'with_mask': 1}\n",
      "['without_mask', 'with_mask']\n",
      "[0, 1]\n"
     ]
    }
   ],
   "source": [
    "\n",
    "types=os.listdir(data_path)\n",
    "labels = [i for i in range(len(types))]\n",
    "label_dict = dict(zip(types, labels))\n",
    "print(label_dict)\n",
    "print(types)\n",
    "print(labels)"
   ]
  },
  {
   "cell_type": "code",
   "execution_count": 13,
   "id": "f4ac04e2",
   "metadata": {},
   "outputs": [
    {
     "data": {
      "text/plain": [
       "['without_mask', 'with_mask']"
      ]
     },
     "execution_count": 13,
     "metadata": {},
     "output_type": "execute_result"
    }
   ],
   "source": [
    "types"
   ]
  },
  {
   "cell_type": "code",
   "execution_count": 17,
   "id": "9e589539",
   "metadata": {},
   "outputs": [],
   "source": [
    "image_sizes = 224\n",
    "dataset = []\n",
    "target = []\n",
    "\n",
    "\n",
    "for typ in types:\n",
    "    folder_path = os.path.join(data_path , typ)\n",
    "    images_names = os.listdir(folder_path)\n",
    "    \n",
    "    \n",
    "    \n",
    "    #loop inside each folder\n",
    "    for img_name in images_names:\n",
    "        img_path = os.path.join(folder_path, img_name)\n",
    "        img = cv2.imread(img_path)\n",
    "        \n",
    "        \n",
    "        \n",
    "        try:\n",
    "            #convert image into gray scale\n",
    "            gray_img = cv2.cvtColor(img, cv2.COLOR_BGR2GRAY)\n",
    "            resized_img = cv2.resize(gray_img, (image_sizes, image_sizes))\n",
    "            dataset.append(resized_img)\n",
    "            target.append(label_dict[typ])\n",
    "            \n",
    "        #if any exception arises    \n",
    "        except Exception as e:\n",
    "            prin(\"Exception:\", e)\n",
    "            \n",
    "            \n",
    "        "
   ]
  },
  {
   "cell_type": "code",
   "execution_count": 21,
   "id": "5a52a5bc",
   "metadata": {},
   "outputs": [
    {
     "data": {
      "text/plain": [
       "(224, 224)"
      ]
     },
     "execution_count": 21,
     "metadata": {},
     "output_type": "execute_result"
    }
   ],
   "source": [
    "dataset[0].shape"
   ]
  },
  {
   "cell_type": "code",
   "execution_count": 32,
   "id": "24c8a910",
   "metadata": {},
   "outputs": [
    {
     "data": {
      "text/plain": [
       "{'without_mask': 0, 'with_mask': 1}"
      ]
     },
     "execution_count": 32,
     "metadata": {},
     "output_type": "execute_result"
    }
   ],
   "source": [
    "label_dict"
   ]
  },
  {
   "cell_type": "code",
   "execution_count": 33,
   "id": "062d21a8",
   "metadata": {},
   "outputs": [],
   "source": [
    "import numpy as np\n",
    "dataset = np.array(dataset)/255.0\n",
    "dataset= np.reshape(dataset, (dataset.shape[0], image_sizes, image_sizes, 1))\n",
    "target = np.array(target)\n"
   ]
  },
  {
   "cell_type": "code",
   "execution_count": 34,
   "id": "8429dcc4",
   "metadata": {},
   "outputs": [],
   "source": [
    "from keras.utils import np_utils\n",
    "new_target = np_utils.to_categorical(target)"
   ]
  },
  {
   "cell_type": "code",
   "execution_count": 39,
   "id": "4a2ee484",
   "metadata": {},
   "outputs": [
    {
     "data": {
      "text/plain": [
       "array([1., 0.], dtype=float32)"
      ]
     },
     "execution_count": 39,
     "metadata": {},
     "output_type": "execute_result"
    }
   ],
   "source": [
    "new_target[0][:]"
   ]
  },
  {
   "cell_type": "code",
   "execution_count": 41,
   "id": "17a05da6",
   "metadata": {},
   "outputs": [],
   "source": [
    "with open('dataset.npy', 'wb') as f:\n",
    "    np.save(f, dataset)\n",
    "with open('target.npy', 'wb') as g:\n",
    "    np.save(g,new_target)"
   ]
  },
  {
   "cell_type": "code",
   "execution_count": null,
   "id": "aa78b64d",
   "metadata": {},
   "outputs": [],
   "source": [
    "from keras.models import Sequential\n",
    "from keras.layers import Dense,Activation,Flatten,Dropout\n",
    "from keras.layers import Conv2D,MaxPooling2D\n",
    "from keras.callbacks import ModelCheckpoint\n",
    "\n",
    "model=Sequential()\n",
    "\n",
    "model.add(Conv2D(200,(3,3),input_shape=data.shape[1:]))\n",
    "model.add(Activation('relu'))\n",
    "model.add(MaxPooling2D(pool_size=(2,2)))\n",
    "#The first CNN layer followed by Relu and MaxPooling layers\n",
    "\n",
    "model.add(Conv2D(100,(3,3)))\n",
    "model.add(Activation('relu'))\n",
    "model.add(MaxPooling2D(pool_size=(2,2)))\n",
    "#The second convolution layer followed by Relu and MaxPooling layers\n",
    "\n",
    "model.add(Flatten())\n",
    "model.add(Dropout(0.5))\n",
    "#Flatten layer to stack the output convolutions from second convolution layer\n",
    "model.add(Dense(50,activation='relu'))\n",
    "#Dense layer of 64 neurons\n",
    "model.add(Dense(2,activation='softmax'))\n",
    "#The Final layer with two outputs for two categories\n"
   ]
  },
  {
   "cell_type": "code",
   "execution_count": 78,
   "id": "2bfd2073",
   "metadata": {},
   "outputs": [
    {
     "name": "stdout",
     "output_type": "stream",
     "text": [
      "Model: \"sequential_1\"\n",
      "_________________________________________________________________\n",
      "Layer (type)                 Output Shape              Param #   \n",
      "=================================================================\n",
      "conv2d (Conv2D)              (None, 222, 222, 200)     2000      \n",
      "_________________________________________________________________\n",
      "activation (Activation)      (None, 222, 222, 200)     0         \n",
      "_________________________________________________________________\n",
      "max_pooling2d (MaxPooling2D) (None, 111, 111, 200)     0         \n",
      "_________________________________________________________________\n",
      "conv2d_1 (Conv2D)            (None, 109, 109, 100)     180100    \n",
      "_________________________________________________________________\n",
      "activation_1 (Activation)    (None, 109, 109, 100)     0         \n",
      "_________________________________________________________________\n",
      "max_pooling2d_1 (MaxPooling2 (None, 54, 54, 100)       0         \n",
      "_________________________________________________________________\n",
      "flatten (Flatten)            (None, 291600)            0         \n",
      "_________________________________________________________________\n",
      "dropout (Dropout)            (None, 291600)            0         \n",
      "_________________________________________________________________\n",
      "dense_1 (Dense)              (None, 50)                14580050  \n",
      "_________________________________________________________________\n",
      "dense_2 (Dense)              (None, 2)                 102       \n",
      "=================================================================\n",
      "Total params: 14,762,252\n",
      "Trainable params: 14,762,252\n",
      "Non-trainable params: 0\n",
      "_________________________________________________________________\n"
     ]
    }
   ],
   "source": [
    "model.summary()"
   ]
  },
  {
   "cell_type": "code",
   "execution_count": null,
   "id": "e0171e06",
   "metadata": {},
   "outputs": [],
   "source": [
    "from sklearn.model_selection import train_test_split\n",
    "\n",
    "train_data,test_data,train_target,test_target=train_test_split(dataset,target,test_size=0.1)"
   ]
  },
  {
   "cell_type": "code",
   "execution_count": 84,
   "id": "5d8917a5",
   "metadata": {},
   "outputs": [],
   "source": [
    "early_stopping = EarlyStopping(monitor='val_loss',\n",
    "                          min_delta=0,\n",
    "                          patience=3,\n",
    "                          verbose=1,\n",
    "                          restore_best_weights=True\n",
    "                          )"
   ]
  },
  {
   "cell_type": "code",
   "execution_count": 85,
   "id": "d8008f75",
   "metadata": {},
   "outputs": [],
   "source": [
    "checkpoint = ModelCheckpoint('model-{epoch:03d}.model',monitor='val_loss',verbose=0,save_best_only=True,mode='auto')"
   ]
  },
  {
   "cell_type": "code",
   "execution_count": 86,
   "id": "abafa949",
   "metadata": {},
   "outputs": [],
   "source": [
    "callbacks_list = [early_stopping,checkpoint,reduce_learningrate]\n",
    "\n",
    "model.compile(loss='categorical_crossentropy',\n",
    "              optimizer = Adam(lr=0.001),\n",
    "              metrics=['accuracy'])"
   ]
  },
  {
   "cell_type": "code",
   "execution_count": 87,
   "id": "5f64c280",
   "metadata": {},
   "outputs": [
    {
     "name": "stdout",
     "output_type": "stream",
     "text": [
      "Epoch 1/40\n",
      "31/31 [==============================] - 98s 3s/step - loss: 0.6956 - accuracy: 0.5486 - val_loss: 0.6911 - val_accuracy: 0.5081\n",
      "INFO:tensorflow:Assets written to: model-001.model/assets\n",
      "Epoch 2/40\n",
      "31/31 [==============================] - 103s 3s/step - loss: 0.6646 - accuracy: 0.6207 - val_loss: 0.5999 - val_accuracy: 0.7218\n",
      "INFO:tensorflow:Assets written to: model-002.model/assets\n",
      "Epoch 3/40\n",
      "31/31 [==============================] - 104s 3s/step - loss: 0.4782 - accuracy: 0.7933 - val_loss: 0.3461 - val_accuracy: 0.8831\n",
      "INFO:tensorflow:Assets written to: model-003.model/assets\n",
      "Epoch 4/40\n",
      "31/31 [==============================] - 104s 3s/step - loss: 0.3348 - accuracy: 0.8478 - val_loss: 0.2573 - val_accuracy: 0.9113\n",
      "INFO:tensorflow:Assets written to: model-004.model/assets\n",
      "Epoch 5/40\n",
      "31/31 [==============================] - 105s 3s/step - loss: 0.2092 - accuracy: 0.9173 - val_loss: 0.2501 - val_accuracy: 0.9153\n",
      "INFO:tensorflow:Assets written to: model-005.model/assets\n",
      "Epoch 6/40\n",
      "31/31 [==============================] - 112s 4s/step - loss: 0.1864 - accuracy: 0.9279 - val_loss: 0.2511 - val_accuracy: 0.8871\n",
      "Epoch 7/40\n",
      "31/31 [==============================] - 112s 4s/step - loss: 0.1646 - accuracy: 0.9315 - val_loss: 0.1985 - val_accuracy: 0.9355\n",
      "INFO:tensorflow:Assets written to: model-007.model/assets\n",
      "Epoch 8/40\n",
      "31/31 [==============================] - 112s 4s/step - loss: 0.1557 - accuracy: 0.9348 - val_loss: 0.1339 - val_accuracy: 0.9718\n",
      "INFO:tensorflow:Assets written to: model-008.model/assets\n",
      "Epoch 9/40\n",
      "31/31 [==============================] - 112s 4s/step - loss: 0.0721 - accuracy: 0.9737 - val_loss: 0.1467 - val_accuracy: 0.9556\n",
      "Epoch 10/40\n",
      "31/31 [==============================] - 111s 4s/step - loss: 0.0787 - accuracy: 0.9776 - val_loss: 0.1527 - val_accuracy: 0.9597\n",
      "Epoch 11/40\n",
      "31/31 [==============================] - 112s 4s/step - loss: 0.0562 - accuracy: 0.9837 - val_loss: 0.1805 - val_accuracy: 0.9516\n",
      "Restoring model weights from the end of the best epoch.\n",
      "\n",
      "Epoch 00011: ReduceLROnPlateau reducing learning rate to 0.00020000000949949026.\n",
      "Epoch 00011: early stopping\n"
     ]
    }
   ],
   "source": [
    "\n",
    "history=model.fit(train_data,train_target,epochs=40,callbacks=[callbacks_list],validation_split=0.2)"
   ]
  },
  {
   "cell_type": "code",
   "execution_count": 88,
   "id": "4c98cddc",
   "metadata": {},
   "outputs": [
    {
     "data": {
      "image/png": "[encoded data removed]",
      "text/plain": [
       "<Figure size 432x288 with 1 Axes>"
      ]
     },
     "metadata": {
      "needs_background": "light"
     },
     "output_type": "display_data"
    }
   ],
   "source": [
    "from matplotlib import pyplot as plt\n",
    "\n",
    "plt.plot(history.history['loss'],'r',label='training loss')\n",
    "plt.plot(history.history['val_loss'],label='validation loss')\n",
    "plt.xlabel('# epochs')\n",
    "plt.ylabel('loss')\n",
    "plt.legend()\n",
    "plt.show()"
   ]
  },
  {
   "cell_type": "code",
   "execution_count": 89,
   "id": "0d4afc8b",
   "metadata": {},
   "outputs": [
    {
     "data": {
      "image/png": "[encoded data removed]",
      "text/plain": [
       "<Figure size 432x288 with 1 Axes>"
      ]
     },
     "metadata": {
      "needs_background": "light"
     },
     "output_type": "display_data"
    }
   ],
   "source": [
    "plt.plot(history.history['accuracy'],'r',label='training accuracy')\n",
    "plt.plot(history.history['val_accuracy'],label='validation accuracy')\n",
    "plt.xlabel('# epochs')\n",
    "plt.ylabel('loss')\n",
    "plt.legend()\n",
    "plt.show()"
   ]
  },
  {
   "cell_type": "code",
   "execution_count": 90,
   "id": "98f2dcf6",
   "metadata": {
    "collapsed": true
   },
   "outputs": [
    {
     "name": "stdout",
     "output_type": "stream",
     "text": [
      "5/5 [==============================] - 3s 657ms/step - loss: 0.3507 - accuracy: 0.9058\n",
      "[0.3506837487220764, 0.9057971239089966]\n"
     ]
    }
   ],
   "source": [
    "print(model.evaluate(test_data,test_target))"
   ]
  }
 ],
 "metadata": {
  "kernelspec": {
   "display_name": "Python 3",
   "language": "python",
   "name": "python3"
  },
  "language_info": {
   "codemirror_mode": {
    "name": "ipython",
    "version": 3
   },
   "file_extension": ".py",
   "mimetype": "text/x-python",
   "name": "python",
   "nbconvert_exporter": "python",
   "pygments_lexer": "ipython3",
   "version": "3.7.10"
  }
 },
 "nbformat": 4,
 "nbformat_minor": 5
}
